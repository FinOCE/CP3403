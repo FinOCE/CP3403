{
 "cells": [
  {
   "cell_type": "code",
   "execution_count": null,
   "id": "7c2294e7",
   "metadata": {
    "scrolled": true
   },
   "outputs": [],
   "source": [
    "# Importing libraries\n",
    "import pandas as pd\n",
    "\n",
    "# Read csv file into a pandas dataframe\n",
    "data = pd.read_csv('mushroom.csv', header=None)\n",
    "\n",
    "# Print the first five rows of data\n",
    "data.head()"
   ]
  },
  {
   "cell_type": "code",
   "execution_count": null,
   "id": "f1b0311a",
   "metadata": {},
   "outputs": [],
   "source": [
    "from pandas.api.types import is_numeric_dtype\n",
    "\n",
    "# For each column, if the column is categorical, print a count of each data category\n",
    "for col in data.columns:\n",
    "    if is_numeric_dtype(data[col]) == False:\n",
    "        print(data[col].value_counts())"
   ]
  },
  {
   "cell_type": "code",
   "execution_count": null,
   "id": "668c61bb",
   "metadata": {},
   "outputs": [],
   "source": [
    "data.describe(include='all')"
   ]
  }
 ],
 "metadata": {
  "kernelspec": {
   "display_name": "Python 3 (ipykernel)",
   "language": "python",
   "name": "python3"
  },
  "language_info": {
   "codemirror_mode": {
    "name": "ipython",
    "version": 3
   },
   "file_extension": ".py",
   "mimetype": "text/x-python",
   "name": "python",
   "nbconvert_exporter": "python",
   "pygments_lexer": "ipython3",
   "version": "3.8.5"
  }
 },
 "nbformat": 4,
 "nbformat_minor": 5
}
